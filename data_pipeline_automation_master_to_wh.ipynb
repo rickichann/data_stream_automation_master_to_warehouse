{
 "cells": [
  {
   "cell_type": "code",
   "execution_count": 84,
   "id": "cc39acd3",
   "metadata": {},
   "outputs": [
    {
     "data": {
      "text/plain": [
       "'2022-10-26 03:36:26'"
      ]
     },
     "execution_count": 84,
     "metadata": {},
     "output_type": "execute_result"
    }
   ],
   "source": [
    "import datetime\n",
    "import datetime as dt\n",
    "first_time = datetime.datetime.utcnow()\n",
    "dt.datetime.utcnow().strftime(\"%Y-%m-%d %H:%M:%S\") "
   ]
  },
  {
   "cell_type": "code",
   "execution_count": 85,
   "id": "8f6e0d97",
   "metadata": {},
   "outputs": [],
   "source": [
    "import pandas as pd\n",
    "import sqlalchemy \n",
    "from sqlalchemy import create_engine\n",
    "import pytz\n",
    "# from urllib.parse import urlencode, quote\n",
    "import requests"
   ]
  },
  {
   "cell_type": "code",
   "execution_count": 86,
   "id": "9b73a7e0",
   "metadata": {},
   "outputs": [],
   "source": [
    "# MySQL Connection\n",
    "MYSQL_ADDRESS = '######' \n",
    "MYSQL_PORT = '######' \n",
    "MYSQL_USERNAME = '######' \n",
    "MYSQL_PASSWORD = '######' \n",
    "MYSQL_DBNAME = '######'  \n",
    "mysql_str = ('mysql+pymysql://{username}:{password}@{ipaddress}:{port}/{dbname}'.format(username=MYSQL_USERNAME, password=MYSQL_PASSWORD, ipaddress=MYSQL_ADDRESS, port=MYSQL_PORT,dbname=MYSQL_DBNAME))\n",
    "# Create the connection\n",
    "cnx_wh = create_engine(mysql_str)\n"
   ]
  },
  {
   "cell_type": "code",
   "execution_count": 87,
   "id": "196b6fb7",
   "metadata": {},
   "outputs": [],
   "source": [
    "# PostgreSQL Connection\n",
    "POSTGRES_ADDRESS = '######' \n",
    "POSTGRES_PORT = '######' \n",
    "POSTGRES_USERNAME = '######' \n",
    "POSTGRES_PASSWORD = '######' \n",
    "POSTGRES_DBNAME = '######' \n",
    "postgres_str = ('postgresql://{username}:{password}@{ipaddress}:{port}/{dbname}'.format(username=POSTGRES_USERNAME, password=POSTGRES_PASSWORD, ipaddress=POSTGRES_ADDRESS, port=POSTGRES_PORT,dbname=POSTGRES_DBNAME))\n",
    "cnx_wh2 = create_engine(postgres_str)\n",
    "conn2 = cnx_wh2.connect()\n",
    "cron_activity_e = create_engine(postgres_str)\n",
    "cron_activity = cron_activity_e.connect()"
   ]
  },
  {
   "cell_type": "code",
   "execution_count": 88,
   "id": "2cb1227f",
   "metadata": {},
   "outputs": [],
   "source": [
    "with cron_activity.connect() as con:\n",
    "    con.execute(\"UPDATE cron_activity SET status = 'Running' where table_name = 'transactions_activity_warehouse' ;\")"
   ]
  },
  {
   "cell_type": "code",
   "execution_count": 89,
   "id": "d1782a80",
   "metadata": {},
   "outputs": [
    {
     "data": {
      "text/plain": [
       "'\"2022-10-26 03:34:32\"'"
      ]
     },
     "execution_count": 89,
     "metadata": {},
     "output_type": "execute_result"
    }
   ],
   "source": [
    "load_date_cron = pd.read_csv('load_date_update.csv')\n",
    "ld = load_date_cron['date'].iloc[0]\n",
    "ld = '\"'+ld+'\"'\n",
    "ld"
   ]
  },
  {
   "cell_type": "code",
   "execution_count": 90,
   "id": "07e317fc",
   "metadata": {},
   "outputs": [],
   "source": [
    "save_date_cron = dt.datetime.utcnow().strftime(\"%Y-%m-%d %H:%M:%S\") "
   ]
  },
  {
   "cell_type": "code",
   "execution_count": 91,
   "id": "9574c5d2",
   "metadata": {},
   "outputs": [],
   "source": [
    "df = pd.read_sql_query('''\n",
    "SELECT\n",
    "\t*\n",
    "FROM\n",
    "\ttransactions_activity_master \n",
    "WHERE updated_at >= {} \n",
    "'''.format(ld), cnx_wh)"
   ]
  },
  {
   "cell_type": "code",
   "execution_count": null,
   "id": "8def4657",
   "metadata": {},
   "outputs": [],
   "source": [
    "df.head()"
   ]
  },
  {
   "cell_type": "code",
   "execution_count": 94,
   "id": "a6481389",
   "metadata": {},
   "outputs": [
    {
     "name": "stdout",
     "output_type": "stream",
     "text": [
      "<class 'pandas.core.frame.DataFrame'>\n",
      "RangeIndex: 25 entries, 0 to 24\n",
      "Data columns (total 42 columns):\n",
      " #   Column                    Non-Null Count  Dtype         \n",
      "---  ------                    --------------  -----         \n",
      " 0   id                        25 non-null     int64         \n",
      " 1   uuid                      25 non-null     object        \n",
      " 2   program_category_id       25 non-null     int64         \n",
      " 3   program_user_id           25 non-null     int64         \n",
      " 4   user_id                   25 non-null     int64         \n",
      " 5   promoter_id               0 non-null      object        \n",
      " 6   program_id                25 non-null     int64         \n",
      " 7   payment_method_id         25 non-null     int64         \n",
      " 8   custom_user_name          4 non-null      object        \n",
      " 9   transaction_number        25 non-null     object        \n",
      " 10  transid_corez             24 non-null     object        \n",
      " 11  quantity                  25 non-null     int64         \n",
      " 12  base_amount               25 non-null     float64       \n",
      " 13  amount                    25 non-null     float64       \n",
      " 14  transaction_date          25 non-null     datetime64[ns]\n",
      " 15  expiry_date               16 non-null     datetime64[ns]\n",
      " 16  payment_date              24 non-null     datetime64[ns]\n",
      " 17  verified_date             10 non-null     datetime64[ns]\n",
      " 18  status                    25 non-null     object        \n",
      " 19  fee                       25 non-null     float64       \n",
      " 20  payment_fee               25 non-null     float64       \n",
      " 21  message                   0 non-null      object        \n",
      " 22  core_z_optional_note      0 non-null      object        \n",
      " 23  transfer_file             0 non-null      object        \n",
      " 24  unique_transaction_code   6 non-null      float64       \n",
      " 25  create_date               25 non-null     datetime64[ns]\n",
      " 26  write_date                25 non-null     datetime64[ns]\n",
      " 27  is_sms_sent               25 non-null     int64         \n",
      " 28  manual_transfer_scrap_id  4 non-null      object        \n",
      " 29  group_id                  23 non-null     float64       \n",
      " 30  room_id                   0 non-null      object        \n",
      " 31  client_ip                 1 non-null      object        \n",
      " 32  client_user_agent         1 non-null      object        \n",
      " 33  fb_clid                   1 non-null      object        \n",
      " 34  fb_pixel                  1 non-null      object        \n",
      " 35  fb_event_id               1 non-null      object        \n",
      " 36  source                    25 non-null     object        \n",
      " 37  allow_contacted           25 non-null     int64         \n",
      " 38  va_number                 0 non-null      object        \n",
      " 39  txid                      0 non-null      object        \n",
      " 40  write_uid                 0 non-null      object        \n",
      " 41  create_uid                0 non-null      object        \n",
      "dtypes: datetime64[ns](6), float64(6), int64(9), object(21)\n",
      "memory usage: 8.3+ KB\n"
     ]
    }
   ],
   "source": [
    "df.info()"
   ]
  },
  {
   "cell_type": "markdown",
   "id": "5933d199",
   "metadata": {},
   "source": [
    "== Insert to WH == "
   ]
  },
  {
   "cell_type": "code",
   "execution_count": 95,
   "id": "3a8c5c84",
   "metadata": {},
   "outputs": [],
   "source": [
    "POSTGRES_ADDRESS = '134.209.105.199' \n",
    "POSTGRES_PORT = '15482'\n",
    "POSTGRES_USERNAME = 'odoo' \n",
    "POSTGRES_PASSWORD = 'erpdonolCintaAllah123!'\n",
    "POSTGRES_DBNAME = 'erp-wh.cinte.id'\n",
    "postgres_str = ('postgresql://{username}:{password}@{ipaddress}:{port}/{dbname}'.format(username=POSTGRES_USERNAME, password=POSTGRES_PASSWORD, ipaddress=POSTGRES_ADDRESS, port=POSTGRES_PORT,dbname=POSTGRES_DBNAME))\n",
    "cnx_wh2 = create_engine(postgres_str)\n",
    "conn2 = cnx_wh2.connect()"
   ]
  },
  {
   "cell_type": "code",
   "execution_count": 96,
   "id": "7f3c46d0",
   "metadata": {},
   "outputs": [],
   "source": [
    "# delete same transactions_id\n",
    "meta = sqlalchemy.MetaData()\n",
    "\n",
    "# Map the Inventory table in your database to a SQLAlchemy object\n",
    "table_wh = sqlalchemy.Table('transactions_activity_warehouse', meta, autoload=True, autoload_with=cnx_wh2)\n",
    "\n",
    "condf = df.apply(lambda row: sqlalchemy.and_(table_wh.c['transaction_id'] == row['transaction_id']), axis=1)\n",
    "cond = sqlalchemy.or_(*condf)\n",
    "\n",
    "# condf\n",
    "\n",
    "# Define and execute the DELETE\n",
    "delete = table_wh.delete().where(cond)\n",
    "with cnx_wh2.connect() as conn2:\n",
    "    conn2.execute(delete)\n"
   ]
  },
  {
   "cell_type": "code",
   "execution_count": 97,
   "id": "b66ea2cf",
   "metadata": {
    "scrolled": true
   },
   "outputs": [
    {
     "data": {
      "text/plain": [
       "25"
      ]
     },
     "execution_count": 97,
     "metadata": {},
     "output_type": "execute_result"
    }
   ],
   "source": [
    "# insert data and data updated\n",
    "cnx_wh2 = create_engine(postgres_str)\n",
    "conn2 = cnx_wh2.connect()\n",
    "df.to_sql('transactions_activity_warehouse', con=conn2, if_exists='append',index=False, method='multi')"
   ]
  },
  {
   "cell_type": "code",
   "execution_count": 100,
   "id": "c575f491",
   "metadata": {},
   "outputs": [
    {
     "data": {
      "text/html": [
       "<div>\n",
       "<style scoped>\n",
       "    .dataframe tbody tr th:only-of-type {\n",
       "        vertical-align: middle;\n",
       "    }\n",
       "\n",
       "    .dataframe tbody tr th {\n",
       "        vertical-align: top;\n",
       "    }\n",
       "\n",
       "    .dataframe thead th {\n",
       "        text-align: right;\n",
       "    }\n",
       "</style>\n",
       "<table border=\"1\" class=\"dataframe\">\n",
       "  <thead>\n",
       "    <tr style=\"text-align: right;\">\n",
       "      <th></th>\n",
       "      <th>date</th>\n",
       "    </tr>\n",
       "  </thead>\n",
       "  <tbody>\n",
       "    <tr>\n",
       "      <th>0</th>\n",
       "      <td>2022-10-26 03:36:29</td>\n",
       "    </tr>\n",
       "  </tbody>\n",
       "</table>\n",
       "</div>"
      ],
      "text/plain": [
       "                  date\n",
       "0  2022-10-26 03:36:29"
      ]
     },
     "execution_count": 100,
     "metadata": {},
     "output_type": "execute_result"
    }
   ],
   "source": [
    "#save date\n",
    "sv = pd.DataFrame({\n",
    "    'date':[save_date_cron]\n",
    "})\n",
    "sv.to_csv('load_date_update.csv')\n",
    "sv"
   ]
  },
  {
   "cell_type": "code",
   "execution_count": 101,
   "id": "7560f859",
   "metadata": {},
   "outputs": [],
   "source": [
    "# processing_time\n",
    "later_time = datetime.datetime.utcnow()\n",
    "difference = later_time - first_time\n",
    "seconds_in_day = 24 * 60 * 60"
   ]
  },
  {
   "cell_type": "code",
   "execution_count": 102,
   "id": "472e7b0a",
   "metadata": {},
   "outputs": [
    {
     "name": "stdout",
     "output_type": "stream",
     "text": [
      " processing_time, 0:19 seconds\n"
     ]
    }
   ],
   "source": [
    "x_time = divmod(difference.days * seconds_in_day + difference.seconds, 60)\n",
    "print(\" processing_time, {}:{} seconds\".format(x_time[0],x_time[1]))"
   ]
  },
  {
   "cell_type": "code",
   "execution_count": 103,
   "id": "c610bf61",
   "metadata": {},
   "outputs": [],
   "source": [
    "with cron_activity.connect() as con:\n",
    "    con.execute(\"UPDATE cron_activity SET status = 'Done', last_processing_time = '{}:{}', updated_at = '{}' where table_name = 'transactions_activity_warehouse' ;\".format(x_time[0],x_time[1],save_date_cron))"
   ]
  }
 ],
 "metadata": {
  "kernelspec": {
   "display_name": "Python 3",
   "language": "python",
   "name": "python3"
  },
  "language_info": {
   "codemirror_mode": {
    "name": "ipython",
    "version": 3
   },
   "file_extension": ".py",
   "mimetype": "text/x-python",
   "name": "python",
   "nbconvert_exporter": "python",
   "pygments_lexer": "ipython3",
   "version": "3.8.8"
  },
  "vscode": {
   "interpreter": {
    "hash": "40d3a090f54c6569ab1632332b64b2c03c39dcf918b08424e98f38b5ae0af88f"
   }
  }
 },
 "nbformat": 4,
 "nbformat_minor": 5
}
